{
 "cells": [
  {
   "cell_type": "code",
   "execution_count": 9,
   "id": "caa97ff1",
   "metadata": {},
   "outputs": [
    {
     "name": "stdout",
     "output_type": "stream",
     "text": [
      "Defaulting to user installation because normal site-packages is not writeable\n",
      "Collecting docling\n",
      "  Using cached docling-2.60.0-py3-none-any.whl.metadata (11 kB)\n",
      "Collecting pydantic<3.0.0,>=2.0.0 (from docling)\n",
      "  Using cached pydantic-2.12.3-py3-none-any.whl.metadata (87 kB)\n",
      "Collecting docling-core<3.0.0,>=2.48.2 (from docling-core[chunking]<3.0.0,>=2.48.2->docling)\n",
      "  Using cached docling_core-2.50.0-py3-none-any.whl.metadata (6.7 kB)\n",
      "Collecting docling-parse<5.0.0,>=4.7.0 (from docling)\n",
      "  Using cached docling_parse-4.7.0.tar.gz (66.5 MB)\n",
      "  Installing build dependencies: started\n",
      "  Installing build dependencies: finished with status 'done'\n",
      "  Getting requirements to build wheel: started\n",
      "  Getting requirements to build wheel: finished with status 'done'\n",
      "  Preparing metadata (pyproject.toml): started\n",
      "  Preparing metadata (pyproject.toml): finished with status 'done'\n",
      "Collecting docling-ibm-models<4,>=3.9.1 (from docling)\n",
      "  Using cached docling_ibm_models-3.10.2-py3-none-any.whl.metadata (7.3 kB)\n",
      "Collecting filetype<2.0.0,>=1.2.0 (from docling)\n",
      "  Using cached filetype-1.2.0-py2.py3-none-any.whl.metadata (6.5 kB)\n",
      "Collecting pypdfium2!=4.30.1,<5.0.0,>=4.30.0 (from docling)\n",
      "  Using cached pypdfium2-4.30.0-py3-none-win_amd64.whl.metadata (48 kB)\n",
      "Collecting pydantic-settings<3.0.0,>=2.3.0 (from docling)\n",
      "  Using cached pydantic_settings-2.11.0-py3-none-any.whl.metadata (3.4 kB)\n",
      "Collecting huggingface_hub<1,>=0.23 (from docling)\n",
      "  Using cached huggingface_hub-0.36.0-py3-none-any.whl.metadata (14 kB)\n",
      "Collecting requests<3.0.0,>=2.32.2 (from docling)\n",
      "  Using cached requests-2.32.5-py3-none-any.whl.metadata (4.9 kB)\n",
      "Collecting rapidocr<4.0.0,>=3.3 (from docling)\n",
      "  Using cached rapidocr-3.4.2-py3-none-any.whl.metadata (1.2 kB)\n",
      "Collecting certifi>=2024.7.4 (from docling)\n",
      "  Using cached certifi-2025.10.5-py3-none-any.whl.metadata (2.5 kB)\n",
      "Collecting rtree<2.0.0,>=1.3.0 (from docling)\n",
      "  Using cached rtree-1.4.1-py3-none-win_amd64.whl.metadata (2.2 kB)\n",
      "Collecting typer<0.20.0,>=0.12.5 (from docling)\n",
      "  Using cached typer-0.19.2-py3-none-any.whl.metadata (16 kB)\n",
      "Collecting python-docx<2.0.0,>=1.1.2 (from docling)\n",
      "  Using cached python_docx-1.2.0-py3-none-any.whl.metadata (2.0 kB)\n",
      "Collecting python-pptx<2.0.0,>=1.0.2 (from docling)\n",
      "  Using cached python_pptx-1.0.2-py3-none-any.whl.metadata (2.5 kB)\n",
      "Collecting beautifulsoup4<5.0.0,>=4.12.3 (from docling)\n",
      "  Using cached beautifulsoup4-4.14.2-py3-none-any.whl.metadata (3.8 kB)\n",
      "Collecting pandas<3.0.0,>=2.1.4 (from docling)\n",
      "  Using cached pandas-2.3.3.tar.gz (4.5 MB)\n",
      "  Installing build dependencies: started\n",
      "  Installing build dependencies: finished with status 'done'\n",
      "  Getting requirements to build wheel: started\n",
      "  Getting requirements to build wheel: finished with status 'done'\n",
      "  Installing backend dependencies: started\n",
      "  Installing backend dependencies: finished with status 'done'\n",
      "  Preparing metadata (pyproject.toml): started\n",
      "  Preparing metadata (pyproject.toml): finished with status 'error'\n",
      "Note: you may need to restart the kernel to use updated packages.\n"
     ]
    },
    {
     "name": "stderr",
     "output_type": "stream",
     "text": [
      "  error: subprocess-exited-with-error\n",
      "  \n",
      "  × Preparing metadata (pyproject.toml) did not run successfully.\n",
      "  │ exit code: 1\n",
      "  ╰─> [10 lines of output]\n",
      "      + meson setup C:\\Users\\hp\\AppData\\Local\\Temp\\pip-install-7grqiygl\\pandas_99a8c2d685814106a42d8d490ec41fea C:\\Users\\hp\\AppData\\Local\\Temp\\pip-install-7grqiygl\\pandas_99a8c2d685814106a42d8d490ec41fea\\.mesonpy-qocg5z8p -Dbuildtype=release -Db_ndebug=if-release -Db_vscrt=md --vsenv --native-file=C:\\Users\\hp\\AppData\\Local\\Temp\\pip-install-7grqiygl\\pandas_99a8c2d685814106a42d8d490ec41fea\\.mesonpy-qocg5z8p\\meson-python-native-file.ini\n",
      "      The Meson build system\n",
      "      Version: 1.9.1\n",
      "      Source dir: C:\\Users\\hp\\AppData\\Local\\Temp\\pip-install-7grqiygl\\pandas_99a8c2d685814106a42d8d490ec41fea\n",
      "      Build dir: C:\\Users\\hp\\AppData\\Local\\Temp\\pip-install-7grqiygl\\pandas_99a8c2d685814106a42d8d490ec41fea\\.mesonpy-qocg5z8p\n",
      "      Build type: native build\n",
      "      \n",
      "      ..\\meson.build:2:0: ERROR: Could not parse vswhere.exe output\n",
      "      \n",
      "      A full log can be found at C:\\Users\\hp\\AppData\\Local\\Temp\\pip-install-7grqiygl\\pandas_99a8c2d685814106a42d8d490ec41fea\\.mesonpy-qocg5z8p\\meson-logs\\meson-log.txt\n",
      "      [end of output]\n",
      "  \n",
      "  note: This error originates from a subprocess, and is likely not a problem with pip.\n",
      "\n",
      "[notice] A new release of pip is available: 25.2 -> 25.3\n",
      "[notice] To update, run: python3.13t.exe -m pip install --upgrade pip\n",
      "error: metadata-generation-failed\n",
      "\n",
      "× Encountered error while generating package metadata.\n",
      "╰─> See above for output.\n",
      "\n",
      "note: This is an issue with the package mentioned above, not pip.\n",
      "hint: See above for details.\n"
     ]
    }
   ],
   "source": [
    "pip install docling"
   ]
  },
  {
   "cell_type": "code",
   "execution_count": 10,
   "id": "ef57628b",
   "metadata": {},
   "outputs": [
    {
     "ename": "ModuleNotFoundError",
     "evalue": "No module named 'docling'",
     "output_type": "error",
     "traceback": [
      "\u001b[31m---------------------------------------------------------------------------\u001b[39m",
      "\u001b[31mModuleNotFoundError\u001b[39m                       Traceback (most recent call last)",
      "\u001b[36mCell\u001b[39m\u001b[36m \u001b[39m\u001b[32mIn[10]\u001b[39m\u001b[32m, line 1\u001b[39m\n\u001b[32m----> \u001b[39m\u001b[32m1\u001b[39m \u001b[38;5;28;01mimport\u001b[39;00m\u001b[38;5;250m \u001b[39m\u001b[34;01mdocling\u001b[39;00m\n",
      "\u001b[31mModuleNotFoundError\u001b[39m: No module named 'docling'"
     ]
    }
   ],
   "source": [
    "import docling"
   ]
  },
  {
   "cell_type": "code",
   "execution_count": null,
   "id": "bbe13045",
   "metadata": {},
   "outputs": [],
   "source": []
  },
  {
   "cell_type": "code",
   "execution_count": null,
   "id": "6d747927",
   "metadata": {},
   "outputs": [],
   "source": [
    "!pip install git+https://github.com/docling/docling.git"
   ]
  },
  {
   "cell_type": "code",
   "execution_count": null,
   "id": "feee5d60",
   "metadata": {},
   "outputs": [],
   "source": []
  }
 ],
 "metadata": {
  "kernelspec": {
   "display_name": "Python 3",
   "language": "python",
   "name": "python3"
  },
  "language_info": {
   "codemirror_mode": {
    "name": "ipython",
    "version": 3
   },
   "file_extension": ".py",
   "mimetype": "text/x-python",
   "name": "python",
   "nbconvert_exporter": "python",
   "pygments_lexer": "ipython3",
   "version": "3.13.7"
  }
 },
 "nbformat": 4,
 "nbformat_minor": 5
}
